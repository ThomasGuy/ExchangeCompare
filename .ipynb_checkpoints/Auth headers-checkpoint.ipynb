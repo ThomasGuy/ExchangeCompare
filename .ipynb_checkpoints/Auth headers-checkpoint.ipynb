{
 "cells": [
  {
   "cell_type": "code",
   "execution_count": 1,
   "metadata": {},
   "outputs": [],
   "source": [
    "import requests\n",
    "import json\n",
    "import os, time\n",
    "from requests.exceptions import HTTPError, RequestException\n",
    "from ticker.async_rest.interfaces.kucoin import auth, Kucoin\n",
    "import hashlib, hmac, base64\n",
    "from aiohttp import ClientConnectionError, ClientResponseError"
   ]
  },
  {
   "cell_type": "code",
   "execution_count": 2,
   "metadata": {},
   "outputs": [],
   "source": [
    "host = \"https://api.kucoin.com\"  # 'ETH-BTC'\n",
    "endpoint = \"/api/v1/market/orderbook/level1\"\n",
    "# endpoint = '/api/v1/accounts'\n",
    "params = {'symbol': 'OMG-BTC'}"
   ]
  },
  {
   "cell_type": "code",
   "execution_count": 3,
   "metadata": {},
   "outputs": [
    {
     "name": "stdout",
     "output_type": "stream",
     "text": [
      "{\"symbol\": \"OMG-BTC\"}\n"
     ]
    }
   ],
   "source": [
    "url = host + endpoint\n",
    "data_json = json.dumps(params)\n",
    "headers = auth(endpoint,  data_json)"
   ]
  },
  {
   "cell_type": "code",
   "execution_count": 4,
   "metadata": {},
   "outputs": [
    {
     "data": {
      "text/plain": [
       "{'KC-API-SIGN': b'jFK8nBY9lsYPH02YcPn0X2U39CWx/JUS9HhYarwGO7A=',\n",
       " 'KC-API-TIMESTAMP': '1559733820310',\n",
       " 'KC-API-KEY': '5cf691b5134ab70207dc9942',\n",
       " 'KC-API-PASSPHRASE': 'MyTicker'}"
      ]
     },
     "execution_count": 4,
     "metadata": {},
     "output_type": "execute_result"
    }
   ],
   "source": [
    "headers"
   ]
  },
  {
   "cell_type": "code",
   "execution_count": 12,
   "metadata": {},
   "outputs": [
    {
     "name": "stdout",
     "output_type": "stream",
     "text": [
      "401\n",
      "<Response [401]>\n",
      "https://openapi-sandbox.kucoin.com/api/v1/deposit-addresses?symbol=OMG-BTC\n"
     ]
    }
   ],
   "source": [
    "response = requests.request('get', url, params=params, headers=headers)\n",
    "print(response.status_code)\n",
    "print(response)\n",
    "print(response.url)"
   ]
  },
  {
   "cell_type": "code",
   "execution_count": 24,
   "metadata": {},
   "outputs": [
    {
     "name": "stdout",
     "output_type": "stream",
     "text": [
      "status 401\n",
      "response {'code': '400003', 'msg': 'KC-API-KEY not exists'}\n",
      "url https://openapi-sandbox.kucoin.com/api/v1/deposit-addresses\n",
      "data-json {\"currency\": \"BTC\"}\n",
      "Api-Key 5cf691b5134ab70207dc9942\n"
     ]
    }
   ],
   "source": [
    "api_secret = os.getenv('KUCOIN_SECRET') or 'secret'\n",
    "api_key = os.getenv('KUCOIN_KEY') or 'api_key'\n",
    "api_passphrase = os.getenv('KUCOIN_PASSPHRASE') or 'passphrase'\n",
    "\n",
    "#Example for create deposit addresses in python\n",
    "url = 'https://openapi-sandbox.kucoin.com/api/v1/deposit-addresses'\n",
    "now = int(time.time() * 1000)\n",
    "data = {\"currency\": \"BTC\"}\n",
    "data_json = json.dumps(data)\n",
    "str_to_sign = str(now) + 'POST' + '/api/v1/deposit-addresses' + data_json\n",
    "signature = base64.b64encode(\n",
    "    hmac.new(api_secret.encode('utf-8'), str_to_sign.encode('utf-8'), hashlib.sha256).digest())\n",
    "headers = {\n",
    "    \"KC-API-SIGN\": signature,\n",
    "    \"KC-API-TIMESTAMP\": str(now),\n",
    "    \"KC-API-KEY\": api_key,\n",
    "    \"KC-API-PASSPHRASE\": api_passphrase,\n",
    "    \"Content-Type\": \"application/json\" # specifying content type or using json=data in request\n",
    "}\n",
    "try:\n",
    "    response = requests.request('post', url, headers=headers, data=data_json)\n",
    "except (HTTPError, RequestException) as err:\n",
    "    print(f'httpError {err}')\n",
    "print('status', response.status_code)\n",
    "print('response', response.json())\n",
    "print('url', response.url)\n",
    "print('data-json', data_json)\n",
    "print('Api-Key', api_key)"
   ]
  },
  {
   "cell_type": "code",
   "execution_count": 18,
   "metadata": {},
   "outputs": [
    {
     "ename": "LookupError",
     "evalue": "'base64' is not a text encoding; use codecs.decode() to handle arbitrary codecs",
     "output_type": "error",
     "traceback": [
      "\u001b[1;31m---------------------------------------------------------------------------\u001b[0m",
      "\u001b[1;31mLookupError\u001b[0m                               Traceback (most recent call last)",
      "\u001b[1;32m<ipython-input-18-b77c0f17de26>\u001b[0m in \u001b[0;36m<module>\u001b[1;34m\u001b[0m\n\u001b[1;32m----> 1\u001b[1;33m \u001b[0mheaders\u001b[0m\u001b[1;33m[\u001b[0m\u001b[1;34m'KC-API-SIGN'\u001b[0m\u001b[1;33m]\u001b[0m\u001b[1;33m.\u001b[0m\u001b[0mdecode\u001b[0m\u001b[1;33m(\u001b[0m\u001b[1;34m'base64'\u001b[0m\u001b[1;33m)\u001b[0m\u001b[1;33m\u001b[0m\u001b[1;33m\u001b[0m\u001b[0m\n\u001b[0m",
      "\u001b[1;31mLookupError\u001b[0m: 'base64' is not a text encoding; use codecs.decode() to handle arbitrary codecs"
     ]
    }
   ],
   "source": [
    "headers['KC-API-SIGN'].decode('base64')"
   ]
  },
  {
   "cell_type": "code",
   "execution_count": null,
   "metadata": {},
   "outputs": [],
   "source": []
  }
 ],
 "metadata": {
  "kernelspec": {
   "display_name": "Python 3",
   "language": "python",
   "name": "python3"
  },
  "language_info": {
   "codemirror_mode": {
    "name": "ipython",
    "version": 3
   },
   "file_extension": ".py",
   "mimetype": "text/x-python",
   "name": "python",
   "nbconvert_exporter": "python",
   "pygments_lexer": "ipython3",
   "version": "3.7.3"
  }
 },
 "nbformat": 4,
 "nbformat_minor": 2
}
