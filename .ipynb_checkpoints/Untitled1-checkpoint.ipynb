{
 "cells": [
  {
   "cell_type": "code",
   "execution_count": 2,
   "metadata": {},
   "outputs": [],
   "source": [
    "import requests\n",
    "import json\n",
    "import os, time\n",
    "from requests.exceptions import HTTPError, RequestException\n",
    "from ticker.async_rest.interfaces.kucoin import auth, Kucoin\n",
    "import hashlib, hmac, base64\n",
    "from aiohttp import ClientConnectionError, ClientResponseError\n",
    "import aiohttp\n",
    "import asyncio"
   ]
  },
  {
   "cell_type": "code",
   "execution_count": 3,
   "metadata": {},
   "outputs": [],
   "source": [
    "async def main():\n",
    "    client = aiohttp.ClientSession()\n",
    "    ku = Kucoin(['OMG','LTC'], 'BTC')\n",
    "    data = await ku.fetch(client)\n",
    "    return data"
   ]
  },
  {
   "cell_type": "code",
   "execution_count": 6,
   "metadata": {},
   "outputs": [
    {
     "name": "stderr",
     "output_type": "stream",
     "text": [
      "Unclosed client session\n",
      "client_session: <aiohttp.client.ClientSession object at 0x08329090>\n",
      "Unclosed connector\n",
      "connections: ['[(<aiohttp.client_proto.ResponseHandler object at 0x0768DC70>, 253641.406)]']\n",
      "connector: <aiohttp.connector.TCPConnector object at 0x083290B0>\n"
     ]
    },
    {
     "data": {
      "text/plain": [
       "{'OMG': ['0.00025315', '0.00025114'], 'LTC': ['0.014497', '0.014487']}"
      ]
     },
     "execution_count": 6,
     "metadata": {},
     "output_type": "execute_result"
    }
   ],
   "source": [
    "# jupyter notebook has an event loop already running\n",
    "loop = asyncio.get_running_loop()\n",
    "# loop.run_until_complete(main())\n",
    "await main()"
   ]
  },
  {
   "cell_type": "code",
   "execution_count": null,
   "metadata": {},
   "outputs": [],
   "source": [
    "\n"
   ]
  },
  {
   "cell_type": "code",
   "execution_count": null,
   "metadata": {},
   "outputs": [],
   "source": []
  }
 ],
 "metadata": {
  "kernelspec": {
   "display_name": "Python 3",
   "language": "python",
   "name": "python3"
  },
  "language_info": {
   "codemirror_mode": {
    "name": "ipython",
    "version": 3
   },
   "file_extension": ".py",
   "mimetype": "text/x-python",
   "name": "python",
   "nbconvert_exporter": "python",
   "pygments_lexer": "ipython3",
   "version": "3.7.3"
  }
 },
 "nbformat": 4,
 "nbformat_minor": 2
}
