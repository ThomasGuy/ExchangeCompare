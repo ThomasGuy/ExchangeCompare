{
 "cells": [
  {
   "cell_type": "code",
   "execution_count": 1,
   "metadata": {},
   "outputs": [],
   "source": [
    "import requests\n",
    "import json\n",
    "from requests.exceptions import HTTPError, RequestException"
   ]
  },
  {
   "cell_type": "markdown",
   "metadata": {},
   "source": [
    "Bitfinex-ticker-data: [SYMBOL, BID, BID_SIZE, ASK, ASK_SIZE, DAILY_CHANGE, DAILY_CHANGE_PERC, LAST_PRICE, VOLUME, HIGH, LOW]\n",
    "\n",
    "Huboi   -ticker-data: {    \"data\":[  \n",
    "        {  \n",
    "        \n",
    "            \"open\":0.044297,      // daily Kline,opennig price\n",
    "            \n",
    "            \"close\":0.042178,     // daily Kline,closing price\n",
    "            \n",
    "            \"low\":0.040110,       // daily Kline,the minimum price\n",
    "            \n",
    "            \"high\":0.045255,      // daily Kline,the maxmum price\n",
    "            \n",
    "            \"amount\":12880.8510, \n",
    "            \n",
    "            \"count\":12838,     \n",
    "            \n",
    "            \"vol\":563.0388715740, \n",
    "            \n",
    "            \"symbol\":\"ethbtc\"    \n",
    "            \n",
    "        }]\n"
   ]
  },
  {
   "cell_type": "code",
   "execution_count": 6,
   "metadata": {},
   "outputs": [],
   "source": [
    "# url = \"https://bitex.la/api/tickers/eth_btc\"\n",
    "\n",
    "# url = \"https://api-pub.bitfinex.com/v2/tickers/\"\n",
    "# url = \"https://api.binance.com/api/v3/ticker/price\"\n",
    "\n",
    "# url = \"https://api.bittrex.com/api/v1.1/public/getticker\"\n",
    "# url = \"https://api.bittrex.com/api/v1.1/public/getmarkets\"\n",
    "\n",
    "# url = \"https://api.huobi.pro/market/detail/merged\"\n",
    "# url = \"https://api.huobi.pro/market/tickers\"\n",
    "# url = \"https://api.huobi.pro/market/depth\"\n",
    "\n",
    "# url = \"https://api.kraken.com/0/public/Ticker\"\n",
    "# url = \"https://api.kraken.com/0/public/AssetPairs\"\n",
    "\n",
    "url = \"https://cex.io/api/ticker/BTCr/USD\"\n",
    "\n",
    "##['IOTAXBT','OMGXBT','ZILXBT']\n",
    "# params = {'symbol': 'ethusdt',\n",
    "#          'type': 'step4',\n",
    "#          }\n",
    "params = ''"
   ]
  },
  {
   "cell_type": "code",
   "execution_count": 7,
   "metadata": {
    "scrolled": false
   },
   "outputs": [],
   "source": [
    "try:\n",
    "    resp = requests.get(url, params)\n",
    "    resp.raise_for_status()\n",
    "    text = resp.text\n",
    "except (HTTPError, RequestException) as err:\n",
    "    print(f\"error: {repr(err)}\")\n",
    "else:\n",
    "    data = json.loads(text)"
   ]
  },
  {
   "cell_type": "code",
   "execution_count": 9,
   "metadata": {},
   "outputs": [],
   "source": [
    "if not data['error']:\n",
    "    print(data['ask'])"
   ]
  },
  {
   "cell_type": "code",
   "execution_count": 5,
   "metadata": {},
   "outputs": [
    {
     "data": {
      "text/plain": [
       "7987.9"
      ]
     },
     "execution_count": 5,
     "metadata": {},
     "output_type": "execute_result"
    }
   ],
   "source": [
    "data['ask']"
   ]
  },
  {
   "cell_type": "code",
   "execution_count": null,
   "metadata": {},
   "outputs": [],
   "source": [
    "[name[0][1:] for name in data if name[0][-3:] == 'BTC' and name[0][1] == 'B']"
   ]
  },
  {
   "cell_type": "code",
   "execution_count": null,
   "metadata": {},
   "outputs": [],
   "source": [
    "attr = data['result']['XXRPXXBT']\n",
    "attr['a'][0], attr['b'][0]"
   ]
  },
  {
   "cell_type": "code",
   "execution_count": null,
   "metadata": {},
   "outputs": [],
   "source": [
    "rdata = data['result']\n",
    "# rdata.keys()\n",
    "[name['altname'] for name in rdata.values() if name['altname'][3:] ==  'XBT']"
   ]
  },
  {
   "cell_type": "code",
   "execution_count": null,
   "metadata": {},
   "outputs": [],
   "source": [
    "## Bittrex pairs\n",
    "rdata = data['result']\n",
    "[(it['MarketCurrency'], it['BaseCurrency']) for it in rdata if it['BaseCurrency'] == 'BTC']"
   ]
  },
  {
   "cell_type": "code",
   "execution_count": null,
   "metadata": {},
   "outputs": [],
   "source": [
    "## Binance pairs\n",
    "rdata = data['result']\n",
    "[(it['MarketCurrency'], it['BaseCurrency']) for it in rdata if it['MarketCurrency'] == 'BCH']"
   ]
  },
  {
   "cell_type": "code",
   "execution_count": null,
   "metadata": {},
   "outputs": [],
   "source": [
    "syms = [dt[0] for dt in data if dt[0][4:] == 'UST']\n",
    "syms"
   ]
  },
  {
   "cell_type": "code",
   "execution_count": null,
   "metadata": {},
   "outputs": [],
   "source": [
    "attr = data['data']['attributes']\n",
    "(attr['ask'], attr['bid'])"
   ]
  },
  {
   "cell_type": "code",
   "execution_count": null,
   "metadata": {},
   "outputs": [],
   "source": [
    "resp.request.headers"
   ]
  },
  {
   "cell_type": "code",
   "execution_count": null,
   "metadata": {},
   "outputs": [],
   "source": [
    "data"
   ]
  },
  {
   "cell_type": "code",
   "execution_count": null,
   "metadata": {},
   "outputs": [],
   "source": [
    "pair = 'BTCUSD'\n",
    "pair[:3].lower() + '-' + pair[3:].lower()"
   ]
  },
  {
   "cell_type": "code",
   "execution_count": null,
   "metadata": {},
   "outputs": [],
   "source": [
    "sd = 't'+'BTCUSD'\n",
    "sd[:-1] + 'T'"
   ]
  },
  {
   "cell_type": "code",
   "execution_count": null,
   "metadata": {},
   "outputs": [],
   "source": []
  },
  {
   "cell_type": "code",
   "execution_count": null,
   "metadata": {},
   "outputs": [],
   "source": []
  }
 ],
 "metadata": {
  "kernelspec": {
   "display_name": "Python 3",
   "language": "python",
   "name": "python3"
  },
  "language_info": {
   "codemirror_mode": {
    "name": "ipython",
    "version": 3
   },
   "file_extension": ".py",
   "mimetype": "text/x-python",
   "name": "python",
   "nbconvert_exporter": "python",
   "pygments_lexer": "ipython3",
   "version": "3.7.3"
  }
 },
 "nbformat": 4,
 "nbformat_minor": 2
}
