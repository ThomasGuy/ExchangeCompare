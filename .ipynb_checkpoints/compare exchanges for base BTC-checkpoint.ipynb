{
 "cells": [
  {
   "cell_type": "code",
   "execution_count": 1,
   "metadata": {},
   "outputs": [],
   "source": [
    "import pandas as pd\n",
    "import matplotlib.pyplot as plt\n",
    "import os\n",
    "%matplotlib notebook"
   ]
  },
  {
   "cell_type": "code",
   "execution_count": 2,
   "metadata": {},
   "outputs": [],
   "source": [
    "bch = pd.read_csv('.\\\\ticker\\\\data\\\\BTC\\\\bchbtc.csv')\n",
    "eos = pd.read_csv('.\\\\ticker\\\\data\\\\BTC\\\\eosbtc.csv')\n",
    "etc = pd.read_csv('.\\\\ticker\\\\data\\\\BTC\\\\etcbtc.csv')\n",
    "eth = pd.read_csv('.\\\\ticker\\\\data\\\\BTC\\\\ethbtc.csv')\n",
    "ltc = pd.read_csv('.\\\\ticker\\\\data\\\\BTC\\\\ltcbtc.csv')\n",
    "neo = pd.read_csv('.\\\\ticker\\\\data\\\\BTC\\\\ltcbtc.csv')\n",
    "xlm = pd.read_csv('.\\\\ticker\\\\data\\\\BTC\\\\xlmbtc.csv')\n",
    "xrp = pd.read_csv('.\\\\ticker\\\\data\\\\BTC\\\\xrpbtc.csv')\n",
    "zec = pd.read_csv('.\\\\ticker\\\\data\\\\BTC\\\\zecbtc.csv')\n",
    "iota = pd.read_csv('.\\\\ticker\\\\data\\\\BTC\\\\iotabtc.csv')\n",
    "dash = pd.read_csv('.\\\\ticker\\\\data\\\\BTC\\\\dashbtc.csv')\n",
    "zil = pd.read_csv('.\\\\ticker\\\\data\\\\BTC\\\\zilbtc.csv')"
   ]
  },
  {
   "cell_type": "code",
   "execution_count": 3,
   "metadata": {},
   "outputs": [
    {
     "ename": "AttributeError",
     "evalue": "'DataFrame' object has no attribute 'drop_na'",
     "output_type": "error",
     "traceback": [
      "\u001b[1;31m---------------------------------------------------------------------------\u001b[0m",
      "\u001b[1;31mAttributeError\u001b[0m                            Traceback (most recent call last)",
      "\u001b[1;32m<ipython-input-3-c76ba380bbb8>\u001b[0m in \u001b[0;36m<module>\u001b[1;34m\u001b[0m\n\u001b[0;32m     48\u001b[0m \u001b[0mzil\u001b[0m\u001b[1;33m[\u001b[0m\u001b[1;34m'Timestamp'\u001b[0m\u001b[1;33m]\u001b[0m \u001b[1;33m=\u001b[0m \u001b[0mpd\u001b[0m\u001b[1;33m.\u001b[0m\u001b[0mto_datetime\u001b[0m\u001b[1;33m(\u001b[0m\u001b[0mzil\u001b[0m\u001b[1;33m[\u001b[0m\u001b[1;34m'Timestamp'\u001b[0m\u001b[1;33m]\u001b[0m\u001b[1;33m,\u001b[0m \u001b[0munit\u001b[0m\u001b[1;33m=\u001b[0m\u001b[1;34m's'\u001b[0m\u001b[1;33m)\u001b[0m\u001b[1;33m\u001b[0m\u001b[1;33m\u001b[0m\u001b[0m\n\u001b[0;32m     49\u001b[0m \u001b[0mzil\u001b[0m\u001b[1;33m.\u001b[0m\u001b[0mset_index\u001b[0m\u001b[1;33m(\u001b[0m\u001b[1;34m'Timestamp'\u001b[0m\u001b[1;33m,\u001b[0m \u001b[0minplace\u001b[0m\u001b[1;33m=\u001b[0m\u001b[1;32mTrue\u001b[0m\u001b[1;33m)\u001b[0m\u001b[1;33m\u001b[0m\u001b[1;33m\u001b[0m\u001b[0m\n\u001b[1;32m---> 50\u001b[1;33m \u001b[0mzil\u001b[0m\u001b[1;33m.\u001b[0m\u001b[0mdrop_na\u001b[0m\u001b[1;33m(\u001b[0m\u001b[1;33m)\u001b[0m\u001b[1;33m\u001b[0m\u001b[1;33m\u001b[0m\u001b[0m\n\u001b[0m\u001b[0;32m     51\u001b[0m \u001b[0mzil\u001b[0m\u001b[1;33m[\u001b[0m\u001b[1;34m'Bitfinex'\u001b[0m\u001b[1;33m]\u001b[0m \u001b[1;33m=\u001b[0m \u001b[0mzil\u001b[0m\u001b[1;33m[\u001b[0m\u001b[1;34m'Bitfinex'\u001b[0m\u001b[1;33m]\u001b[0m\u001b[1;33m.\u001b[0m\u001b[0mastype\u001b[0m\u001b[1;33m(\u001b[0m\u001b[0mfloat\u001b[0m\u001b[1;33m)\u001b[0m\u001b[1;33m\u001b[0m\u001b[1;33m\u001b[0m\u001b[0m\n\u001b[0;32m     52\u001b[0m \u001b[0mzil\u001b[0m\u001b[1;33m[\u001b[0m\u001b[1;34m'diff_%'\u001b[0m\u001b[1;33m]\u001b[0m \u001b[1;33m=\u001b[0m \u001b[1;33m(\u001b[0m\u001b[1;36m100\u001b[0m \u001b[1;33m*\u001b[0m \u001b[1;33m(\u001b[0m\u001b[0mzil\u001b[0m\u001b[1;33m.\u001b[0m\u001b[0mmax\u001b[0m\u001b[1;33m(\u001b[0m\u001b[0maxis\u001b[0m\u001b[1;33m=\u001b[0m\u001b[1;36m1\u001b[0m\u001b[1;33m)\u001b[0m \u001b[1;33m-\u001b[0m \u001b[0mzil\u001b[0m\u001b[1;33m.\u001b[0m\u001b[0mmin\u001b[0m\u001b[1;33m(\u001b[0m\u001b[0maxis\u001b[0m\u001b[1;33m=\u001b[0m\u001b[1;36m1\u001b[0m\u001b[1;33m)\u001b[0m\u001b[1;33m)\u001b[0m\u001b[1;33m)\u001b[0m \u001b[1;33m/\u001b[0m \u001b[0mzil\u001b[0m\u001b[1;33m.\u001b[0m\u001b[0mmax\u001b[0m\u001b[1;33m(\u001b[0m\u001b[0maxis\u001b[0m\u001b[1;33m=\u001b[0m\u001b[1;36m1\u001b[0m\u001b[1;33m)\u001b[0m\u001b[1;33m\u001b[0m\u001b[1;33m\u001b[0m\u001b[0m\n",
      "\u001b[1;32mc:\\users\\admin\\twguy_projects\\python\\ticker_project\\ticker\\.venv\\lib\\site-packages\\pandas\\core\\generic.py\u001b[0m in \u001b[0;36m__getattr__\u001b[1;34m(self, name)\u001b[0m\n\u001b[0;32m   5065\u001b[0m             \u001b[1;32mif\u001b[0m \u001b[0mself\u001b[0m\u001b[1;33m.\u001b[0m\u001b[0m_info_axis\u001b[0m\u001b[1;33m.\u001b[0m\u001b[0m_can_hold_identifiers_and_holds_name\u001b[0m\u001b[1;33m(\u001b[0m\u001b[0mname\u001b[0m\u001b[1;33m)\u001b[0m\u001b[1;33m:\u001b[0m\u001b[1;33m\u001b[0m\u001b[1;33m\u001b[0m\u001b[0m\n\u001b[0;32m   5066\u001b[0m                 \u001b[1;32mreturn\u001b[0m \u001b[0mself\u001b[0m\u001b[1;33m[\u001b[0m\u001b[0mname\u001b[0m\u001b[1;33m]\u001b[0m\u001b[1;33m\u001b[0m\u001b[1;33m\u001b[0m\u001b[0m\n\u001b[1;32m-> 5067\u001b[1;33m             \u001b[1;32mreturn\u001b[0m \u001b[0mobject\u001b[0m\u001b[1;33m.\u001b[0m\u001b[0m__getattribute__\u001b[0m\u001b[1;33m(\u001b[0m\u001b[0mself\u001b[0m\u001b[1;33m,\u001b[0m \u001b[0mname\u001b[0m\u001b[1;33m)\u001b[0m\u001b[1;33m\u001b[0m\u001b[1;33m\u001b[0m\u001b[0m\n\u001b[0m\u001b[0;32m   5068\u001b[0m \u001b[1;33m\u001b[0m\u001b[0m\n\u001b[0;32m   5069\u001b[0m     \u001b[1;32mdef\u001b[0m \u001b[0m__setattr__\u001b[0m\u001b[1;33m(\u001b[0m\u001b[0mself\u001b[0m\u001b[1;33m,\u001b[0m \u001b[0mname\u001b[0m\u001b[1;33m,\u001b[0m \u001b[0mvalue\u001b[0m\u001b[1;33m)\u001b[0m\u001b[1;33m:\u001b[0m\u001b[1;33m\u001b[0m\u001b[1;33m\u001b[0m\u001b[0m\n",
      "\u001b[1;31mAttributeError\u001b[0m: 'DataFrame' object has no attribute 'drop_na'"
     ]
    }
   ],
   "source": [
    "pd.set_option('precision', 9)\n",
    "\n",
    "bch['Timestamp'] = pd.to_datetime(bch['Timestamp'], unit='s')\n",
    "bch.set_index('Timestamp', inplace=True)\n",
    "# bch['Bitfinex'] = bch['Bitfinex'].astype(float)\n",
    "bch['diff_%'] = (100 * (bch.max(axis=1) - bch.min(axis=1))) / bch.max(axis=1)\n",
    "\n",
    "eos['Timestamp'] = pd.to_datetime(eos['Timestamp'], unit='s')\n",
    "eos.set_index('Timestamp', inplace=True)\n",
    "eos['diff_%'] = (100 * (eos.max(axis=1) - eos.min(axis=1))) / eos.max(axis=1)\n",
    "\n",
    "etc['Timestamp'] = pd.to_datetime(etc['Timestamp'], unit='s')\n",
    "etc.set_index('Timestamp', inplace=True)\n",
    "etc['diff_%'] = (100 * (etc.max(axis=1) - etc.min(axis=1))) / etc.max(axis=1)\n",
    "\n",
    "eth['Timestamp'] = pd.to_datetime(eth['Timestamp'], unit='s')\n",
    "eth.set_index('Timestamp', inplace=True)\n",
    "eth['diff_%'] = (100 * (eth.max(axis=1) - eth.min(axis=1))) / eth.max(axis=1)\n",
    "\n",
    "ltc['Timestamp'] = pd.to_datetime(ltc['Timestamp'], unit='s')\n",
    "ltc.set_index('Timestamp', inplace=True)\n",
    "ltc['diff_%'] = (100 * (ltc.max(axis=1) - ltc.min(axis=1))) / ltc.max(axis=1)\n",
    "\n",
    "neo['Timestamp'] = pd.to_datetime(neo['Timestamp'], unit='s')\n",
    "neo.set_index('Timestamp', inplace=True)\n",
    "neo['diff_%'] = (100 * (neo.max(axis=1) - neo.min(axis=1))) / neo.max(axis=1)\n",
    "\n",
    "xlm['Timestamp'] = pd.to_datetime(xlm['Timestamp'], unit='s')\n",
    "xlm.set_index('Timestamp', inplace=True)\n",
    "xlm['diff_%'] = (100 * (xlm.max(axis=1) - xlm.min(axis=1))) / xlm.max(axis=1)\n",
    "\n",
    "xrp['Timestamp'] = pd.to_datetime(xrp['Timestamp'], unit='s')\n",
    "xrp.set_index('Timestamp', inplace=True)\n",
    "xrp['diff_%'] = (100 * (xrp.max(axis=1) - xrp.min(axis=1))) / xrp.max(axis=1)\n",
    "\n",
    "zec['Timestamp'] = pd.to_datetime(zec['Timestamp'], unit='s')\n",
    "zec.set_index('Timestamp', inplace=True)\n",
    "zec['diff_%'] = (100 * (zec.max(axis=1) - zec.min(axis=1))) / zec.max(axis=1)\n",
    "\n",
    "iota['Timestamp'] = pd.to_datetime(iota['Timestamp'], unit='s')\n",
    "iota.set_index('Timestamp', inplace=True)\n",
    "iota['diff_%'] = (100 * (iota.max(axis=1) - iota.min(axis=1))) / iota.max(axis=1)\n",
    "\n",
    "dash['Timestamp'] = pd.to_datetime(dash['Timestamp'], unit='s')\n",
    "dash.set_index('Timestamp', inplace=True)\n",
    "dash['diff_%'] = (100 * (dash.max(axis=1) - dash.min(axis=1))) / dash.max(axis=1)\n",
    "\n",
    "zil['Timestamp'] = pd.to_datetime(zil['Timestamp'], unit='s')\n",
    "zil.set_index('Timestamp', inplace=True)\n",
    "zil.dropna()\n",
    "zil['Bitfinex'] = zil['Bitfinex'].astype(float)\n",
    "zil['diff_%'] = (100 * (zil.max(axis=1) - zil.min(axis=1))) / zil.max(axis=1)"
   ]
  },
  {
   "cell_type": "code",
   "execution_count": null,
   "metadata": {},
   "outputs": [],
   "source": [
    "bch.drop(['diff_%'], axis=1).plot(figsize=(16,6),title='Bitcoin Cash');"
   ]
  },
  {
   "cell_type": "code",
   "execution_count": null,
   "metadata": {},
   "outputs": [],
   "source": [
    "eth.drop(['diff_%'], axis=1).plot(figsize=(16,6),title='Ethereum');"
   ]
  },
  {
   "cell_type": "code",
   "execution_count": null,
   "metadata": {},
   "outputs": [],
   "source": [
    "eth['diff_%'].plot.hist(figsize=(12,4),bins=20,label='eth');\n",
    "etc['diff_%'].plot.hist(figsize=(12,4),bins=20,label='etc');\n",
    "eos['diff_%'].plot.hist(figsize=(12,4),bins=20,label='eos');\n",
    "bch['diff_%'].plot.hist(figsize=(12,4),bins=20,label='bch');\n",
    "neo['diff_%'].plot.hist(figsize=(12,4),bins=20,label='neo');\n",
    "ltc['diff_%'].plot.hist(figsize=(12,4),bins=20,label='ltc');\n",
    "xlm['diff_%'].plot.hist(figsize=(12,4),bins=20,label='xlm');\n",
    "xrp['diff_%'].plot.hist(figsize=(12,4),bins=20,label='xrp');\n",
    "zec['diff_%'].plot.hist(figsize=(12,4),bins=20,label='zec');\n",
    "iota['diff_%'].plot.hist(figsize=(12,4),bins=20,label='iota');\n",
    "dash['diff_%'].plot.hist(figsize=(12,4),bins=20,label='dash');\n",
    "zil['diff_%'].plot.hist(figsize=(12,4),bins=20,label='zil');\n",
    "plt.legend()"
   ]
  },
  {
   "cell_type": "code",
   "execution_count": null,
   "metadata": {},
   "outputs": [],
   "source": [
    "etc['diff_%'].plot(figsize=(12,4));"
   ]
  },
  {
   "cell_type": "code",
   "execution_count": null,
   "metadata": {},
   "outputs": [],
   "source": [
    "etc['diff_%'].plot.hist(figsize=(12,4),bins=50,label='etc');"
   ]
  },
  {
   "cell_type": "code",
   "execution_count": null,
   "metadata": {},
   "outputs": [],
   "source": [
    "zil['diff_%'].plot(figsize=(12,4));"
   ]
  },
  {
   "cell_type": "code",
   "execution_count": null,
   "metadata": {},
   "outputs": [],
   "source": [
    "zil['diff_%'].plot.hist(figsize=(12,4),bins=20,label='zil');"
   ]
  },
  {
   "cell_type": "code",
   "execution_count": null,
   "metadata": {},
   "outputs": [],
   "source": [
    "zil.iloc[99:101]"
   ]
  },
  {
   "cell_type": "code",
   "execution_count": null,
   "metadata": {},
   "outputs": [],
   "source": [
    "100 * (float(zil['Bitfinex'].iloc[100]) - float(zil['Huboi'].iloc[100])) / float(zil['Bitfinex'].iloc[100])"
   ]
  },
  {
   "cell_type": "code",
   "execution_count": null,
   "metadata": {},
   "outputs": [],
   "source": [
    "type(zil['Bitfinex'].iloc[101])"
   ]
  },
  {
   "cell_type": "code",
   "execution_count": null,
   "metadata": {},
   "outputs": [],
   "source": [
    "float(zil['Bitfinex'].iloc[101])"
   ]
  },
  {
   "cell_type": "code",
   "execution_count": null,
   "metadata": {},
   "outputs": [],
   "source": []
  }
 ],
 "metadata": {
  "kernelspec": {
   "display_name": "Python 3",
   "language": "python",
   "name": "python3"
  },
  "language_info": {
   "codemirror_mode": {
    "name": "ipython",
    "version": 3
   },
   "file_extension": ".py",
   "mimetype": "text/x-python",
   "name": "python",
   "nbconvert_exporter": "python",
   "pygments_lexer": "ipython3",
   "version": "3.7.3"
  }
 },
 "nbformat": 4,
 "nbformat_minor": 2
}
