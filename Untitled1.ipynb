{
 "cells": [
  {
   "cell_type": "code",
   "execution_count": 9,
   "metadata": {},
   "outputs": [],
   "source": [
    "import requests\n",
    "import json\n",
    "import os, time\n",
    "from requests.exceptions import HTTPError, RequestException\n",
    "from ticker.async_rest.interfaces import auth, Kucoin, CoinbasePro\n",
    "import hashlib, hmac, base64\n",
    "from aiohttp import ClientConnectionError, ClientResponseError\n",
    "import aiohttp\n",
    "import asyncio"
   ]
  },
  {
   "cell_type": "code",
   "execution_count": 10,
   "metadata": {},
   "outputs": [],
   "source": [
    "async def main():\n",
    "    client = aiohttp.ClientSession()\n",
    "    ku = Kucoin(['INS', 'IOST', 'IOTX', 'ING', 'ITC'], 'BTC')\n",
    "    data = await ku.fetch(client)\n",
    "    return data"
   ]
  },
  {
   "cell_type": "code",
   "execution_count": 11,
   "metadata": {},
   "outputs": [
    {
     "name": "stderr",
     "output_type": "stream",
     "text": [
      "Unclosed client session\n",
      "client_session: <aiohttp.client.ClientSession object at 0x06620D70>\n",
      "Unclosed connector\n",
      "connections: ['[(<aiohttp.client_proto.ResponseHandler object at 0x0651CCE0>, 279109.281)]']\n",
      "connector: <aiohttp.connector.TCPConnector object at 0x06620B10>\n"
     ]
    },
    {
     "data": {
      "text/plain": [
       "{'INS': ['0.00004512', '0.00004496'],\n",
       " 'IOST': ['0.00000144', '0.00000142'],\n",
       " 'IOTX': ['0.00000133', '0.0000013'],\n",
       " 'ING': ['0.00000068', '0.00000061'],\n",
       " 'ITC': ['0.00004686', '0.00004665']}"
      ]
     },
     "execution_count": 11,
     "metadata": {},
     "output_type": "execute_result"
    }
   ],
   "source": [
    "# jupyter notebook has an event loop already running\n",
    "loop = asyncio.get_running_loop()\n",
    "# loop.run_until_complete(main())\n",
    "await main()"
   ]
  },
  {
   "cell_type": "code",
   "execution_count": 15,
   "metadata": {},
   "outputs": [],
   "source": [
    "pairs = ['BCH', 'EOS', 'ETC', 'ETH', 'LTC', 'NEO', 'XLM', 'XRP', 'ZEC', 'OMG',\n",
    "         'IOTA', 'DASH', 'BTG', 'ZRX', 'XMR', 'TRX', 'BSV', 'ADA']\n"
   ]
  },
  {
   "cell_type": "code",
   "execution_count": 16,
   "metadata": {},
   "outputs": [
    {
     "data": {
      "text/plain": [
       "['ADA',\n",
       " 'BCH',\n",
       " 'BSV',\n",
       " 'BTG',\n",
       " 'DASH',\n",
       " 'EOS',\n",
       " 'ETC',\n",
       " 'ETH',\n",
       " 'IOTA',\n",
       " 'LTC',\n",
       " 'NEO',\n",
       " 'OMG',\n",
       " 'TRX',\n",
       " 'XLM',\n",
       " 'XMR',\n",
       " 'XRP',\n",
       " 'ZEC',\n",
       " 'ZRX']"
      ]
     },
     "execution_count": 16,
     "metadata": {},
     "output_type": "execute_result"
    }
   ],
   "source": [
    "p = sorted(pairs)\n",
    "p"
   ]
  },
  {
   "cell_type": "code",
   "execution_count": null,
   "metadata": {},
   "outputs": [],
   "source": [
    "['ADA',\n",
    " 'BCH',\n",
    " 'BSV',\n",
    " 'BTG',\n",
    " 'DASH',\n",
    " 'EOS',\n",
    " 'ETC',\n",
    " 'ETH',\n",
    " 'IOTA',\n",
    " 'LTC',\n",
    " 'NEO',\n",
    " 'OMG',\n",
    " 'TRX',\n",
    " 'XLM',\n",
    " 'XMR',\n",
    " 'XRP',\n",
    " 'ZEC',\n",
    " 'ZRX']"
   ]
  }
 ],
 "metadata": {
  "kernelspec": {
   "display_name": "Python 3",
   "language": "python",
   "name": "python3"
  },
  "language_info": {
   "codemirror_mode": {
    "name": "ipython",
    "version": 3
   },
   "file_extension": ".py",
   "mimetype": "text/x-python",
   "name": "python",
   "nbconvert_exporter": "python",
   "pygments_lexer": "ipython3",
   "version": "3.7.3"
  }
 },
 "nbformat": 4,
 "nbformat_minor": 2
}
